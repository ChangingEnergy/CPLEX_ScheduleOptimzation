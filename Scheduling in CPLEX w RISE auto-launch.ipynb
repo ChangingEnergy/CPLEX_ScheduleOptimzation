{
 "cells": [
  {
   "cell_type": "markdown",
   "metadata": {
    "slideshow": {
     "slide_type": "slide"
    }
   },
   "source": [
    "### Schedule Optimization with CPLEX and Python\n",
    "<img src=\"ScheduleOptimsation_RedLobsterMoonfruit.jpg\" alt=\"ScheduleOptimsation\" width=\"500\"/>"
   ]
  },
  {
   "cell_type": "code",
   "execution_count": null,
   "metadata": {
    "slideshow": {
     "slide_type": "skip"
    }
   },
   "outputs": [],
   "source": [
    "!pip3 install jupyter_contrib_nbextensions\n",
    "!jupyter contrib nbextension install"
   ]
  },
  {
   "cell_type": "code",
   "execution_count": null,
   "metadata": {
    "slideshow": {
     "slide_type": "skip"
    }
   },
   "outputs": [],
   "source": [
    "# !pip install RISE #one time-set up for creating Jupyter slideshows"
   ]
  },
  {
   "cell_type": "markdown",
   "metadata": {
    "slideshow": {
     "slide_type": "slide"
    }
   },
   "source": [
    "## Step 1: Describe the problem"
   ]
  },
  {
   "cell_type": "markdown",
   "metadata": {
    "slideshow": {
     "slide_type": "slide"
    }
   },
   "source": [
    "The first step in modeling the problem is to write a natural language description of the problem, identifying the decision variables and the constraints on these variables.\n",
    "\n",
    "Writing a natural language description of this problem requires to answer these questions:\n",
    "\n",
    "- What is the known information in this problem ?\n",
    "- What are the decision variables or unknowns in this problem ?\n",
    "- What are the constraints on these variables ?\n",
    "- What is the objective ?\n",
    "\n",
    "_What is the known information in this problem ?_\n",
    "\n",
    "There are ten house building tasks, each with a given duration. For each task, there is a list of tasks that must be completed before the task can start. Some tasks also have costs associated with an early start date or late end date.\n",
    "\n",
    "_What are the decision variables or unknowns in this problem ?_\n",
    "\n",
    "The unknowns are the date that each task will start. The cost is determined by the assigned start dates.\n",
    "\n",
    "_What are the constraints on these variables ?_\n",
    "\n",
    "In this case, each constraint specifies that a particular task may not begin until one or more given tasks have been completed.\n",
    "\n",
    "_What is the objective ?_\n",
    "\n",
    "The objective is to minimize the cost incurred through earliness and tardiness costs."
   ]
  },
  {
   "cell_type": "markdown",
   "metadata": {
    "slideshow": {
     "slide_type": "slide"
    }
   },
   "source": [
    "## Step 2: Model Setup"
   ]
  },
  {
   "cell_type": "markdown",
   "metadata": {
    "slideshow": {
     "slide_type": "slide"
    }
   },
   "source": [
    "When using a cloud solving solution, the following attributes must be set with appropriate values:"
   ]
  },
  {
   "cell_type": "code",
   "execution_count": null,
   "metadata": {
    "slideshow": {
     "slide_type": "slide"
    }
   },
   "outputs": [],
   "source": [
    "url = None\n",
    "key = None"
   ]
  },
  {
   "cell_type": "markdown",
   "metadata": {
    "slideshow": {
     "slide_type": "slide"
    }
   },
   "source": [
    "### Declaration of engine\n",
    "A scheduling model starts with the declaration of the engine as follows:"
   ]
  },
  {
   "cell_type": "code",
   "execution_count": null,
   "metadata": {
    "slideshow": {
     "slide_type": "slide"
    }
   },
   "outputs": [],
   "source": [
    "# !pip install docplex #one time-set up"
   ]
  },
  {
   "cell_type": "code",
   "execution_count": null,
   "metadata": {
    "slideshow": {
     "slide_type": "slide"
    }
   },
   "outputs": [],
   "source": [
    "import sys\n",
    "from docplex.cp.model import *"
   ]
  },
  {
   "cell_type": "code",
   "execution_count": null,
   "metadata": {},
   "outputs": [],
   "source": [
    "#check environment\n",
    "\n",
    "from docplex.mp.environment import Environment\n",
    "env = Environment()\n",
    "env.print_information()"
   ]
  },
  {
   "cell_type": "code",
   "execution_count": null,
   "metadata": {
    "slideshow": {
     "slide_type": "slide"
    }
   },
   "outputs": [],
   "source": [
    "# create the model container:\n",
    "mdl1 = CpoModel()"
   ]
  },
  {
   "cell_type": "markdown",
   "metadata": {
    "slideshow": {
     "slide_type": "slide"
    }
   },
   "source": [
    "## Step 3: Declare the interval variables\n",
    "In the model, each task is represented by an interval variables. Each variable represents the unknown information, the scheduled interval for each activity. After the model is executed, the values assigned to these interval variables will represent the solution to the problem."
   ]
  },
  {
   "cell_type": "markdown",
   "metadata": {
    "slideshow": {
     "slide_type": "slide"
    }
   },
   "source": [
    "The declaration of necessary interval variables is done as follows:"
   ]
  },
  {
   "cell_type": "markdown",
   "metadata": {
    "slideshow": {
     "slide_type": "slide"
    }
   },
   "source": [
    "| Task | Duration | Preceding tasks |\n",
    "| --- | --- | --- |\n",
    "| masonry | 35 |  |\n",
    "| capentry | 15 | masonry |\n",
    "| COMPLETE THIS "
   ]
  },
  {
   "cell_type": "code",
   "execution_count": null,
   "metadata": {
    "slideshow": {
     "slide_type": "slide"
    }
   },
   "outputs": [],
   "source": [
    "masonry = mdl1.interval_var(size=35)\n",
    "carpentry = mdl1.interval_var(size=15)\n",
    "plumbing = mdl1.interval_var(size=40)\n",
    "ceiling = mdl1.interval_var(size=15)\n",
    "roofing = mdl1.interval_var(size=5)\n",
    "painting = mdl1.interval_var(size=10)\n",
    "windows = mdl1.interval_var(size=5)\n",
    "facade = mdl1.interval_var(size=10)\n",
    "garden = mdl1.interval_var(size=5)\n",
    "moving = mdl1.interval_var(size=5)"
   ]
  },
  {
   "cell_type": "markdown",
   "metadata": {
    "slideshow": {
     "slide_type": "slide"
    }
   },
   "source": [
    "## Step 4: Add the precedence constraints"
   ]
  },
  {
   "cell_type": "markdown",
   "metadata": {
    "slideshow": {
     "slide_type": "slide"
    }
   },
   "source": [
    "In this example, certain tasks can start only after other tasks have been completed. CP Optimizer allows to express constraints involving temporal relationships between pairs of interval variables using precedence constraints.\n",
    "\n",
    "Precedence constraints are used to specify when an interval variable must start or end with respect to the start or end time of another interval variable.\n",
    "\n",
    "The following types of precedence constraints are available; if a and b denote interval variables, both interval variables are present, and delay is a number or integer expression (0 by default), then:\n",
    "\n",
    "end_before_end(a, b, delay) constrains at least the given delay to elapse between the end of a and the end of b. It imposes the inequality endTime(a) + delay <= endTime(b).\n",
    "end_before_start(a, b, delay) constrains at least the given delay to elapse between the end of a and the start of b. It imposes the inequality endTime(a) + delay <= startTime(b).\n",
    "end_at_end(a, b, delay) constrains the given delay to separate the end of a and the end of ab. It imposes the equality endTime(a) + delay == endTime(b).\n",
    "end_at_start(a, b, delay) constrains the given delay to separate the end of a and the start of b. It imposes the equality endTime(a) + delay == startTime(b).\n",
    "start_before_end(a, b, delay) constrains at least the given delay to elapse between the start of a and the end of b. It imposes the inequality startTime(a) + delay <= endTime(b).\n",
    "start_before_start(a, b, delay) constrains at least the given delay to elapse between the start of act1 and the start of act2. It imposes the inequality startTime(a) + delay <= startTime(b).\n",
    "start_at_end(a, b, delay) constrains the given delay to separate the start of a and the end of b. It imposes the equality startTime(a) + delay == endTime(b).\n",
    "start_at_start(a, b, delay) constrains the given delay to separate the start of a and the start of b. It imposes the equality startTime(a) + delay == startTime(b).\n",
    "If either interval a or b is not present in the solution, the constraint is automatically satisfied, and it is as if the constraint was never imposed.\n",
    "\n",
    "For our model, precedence constraints can be added with the following code:"
   ]
  },
  {
   "cell_type": "code",
   "execution_count": null,
   "metadata": {
    "slideshow": {
     "slide_type": "slide"
    }
   },
   "outputs": [],
   "source": [
    "mdl1.add( mdl1.end_before_start(masonry, carpentry) )\n",
    "mdl1.add( mdl1.end_before_start(masonry, plumbing) )\n",
    "mdl1.add( mdl1.end_before_start(masonry, ceiling) )\n",
    "mdl1.add( mdl1.end_before_start(carpentry, roofing) )\n",
    "mdl1.add( mdl1.end_before_start(ceiling, painting) )\n",
    "mdl1.add( mdl1.end_before_start(roofing, windows) )\n",
    "mdl1.add( mdl1.end_before_start(roofing, facade) )\n",
    "mdl1.add( mdl1.end_before_start(plumbing, facade) )\n",
    "mdl1.add( mdl1.end_before_start(roofing, garden) )\n",
    "mdl1.add( mdl1.end_before_start(plumbing, garden) )\n",
    "mdl1.add( mdl1.end_before_start(windows, moving) )\n",
    "mdl1.add( mdl1.end_before_start(facade, moving) )\n",
    "mdl1.add( mdl1.end_before_start(garden, moving) )\n",
    "mdl1.add( mdl1.end_before_start(painting, moving) )"
   ]
  },
  {
   "cell_type": "markdown",
   "metadata": {
    "slideshow": {
     "slide_type": "slide"
    }
   },
   "source": [
    "## Step 5: Add the objective"
   ]
  },
  {
   "cell_type": "markdown",
   "metadata": {
    "slideshow": {
     "slide_type": "slide"
    }
   },
   "source": [
    "The objective function to be minimized can be written as follows:"
   ]
  },
  {
   "cell_type": "code",
   "execution_count": null,
   "metadata": {
    "slideshow": {
     "slide_type": "slide"
    }
   },
   "outputs": [],
   "source": [
    "obj = mdl1.minimize(  400 * mdl1.max([mdl1.end_of(moving) - 100, 0]) \n",
    "                    + 200 * mdl1.max([25 - mdl1.start_of(masonry), 0]) \n",
    "                    + 300 * mdl1.max([75 - mdl1.start_of(carpentry), 0]) \n",
    "                    + 100 * mdl1.max([75 - mdl1.start_of(ceiling), 0]) )\n",
    "mdl1.add(obj)"
   ]
  },
  {
   "cell_type": "markdown",
   "metadata": {
    "slideshow": {
     "slide_type": "slide"
    }
   },
   "source": [
    "## Step 6: Solve the model and display the solution"
   ]
  },
  {
   "cell_type": "code",
   "execution_count": null,
   "metadata": {
    "slideshow": {
     "slide_type": "slide"
    }
   },
   "outputs": [],
   "source": [
    "# Solve the model\n",
    "print(\"\\nSolving model....\")\n",
    "msol1 = mdl1.solve(url=url, key=key, TimeLimit=20)\n",
    "print(\"done\")"
   ]
  },
  {
   "cell_type": "code",
   "execution_count": null,
   "metadata": {
    "slideshow": {
     "slide_type": "slide"
    }
   },
   "outputs": [],
   "source": [
    "print(\"Cost will be \" + str(msol1.get_objective_values()[0]))"
   ]
  },
  {
   "cell_type": "code",
   "execution_count": null,
   "metadata": {
    "slideshow": {
     "slide_type": "slide"
    }
   },
   "outputs": [],
   "source": [
    "var_sol = msol1.get_var_solution(masonry)\n",
    "print(\"Masonry : {}..{}\".format(var_sol.get_start(), var_sol.get_end()))\n",
    "var_sol = msol1.get_var_solution(carpentry)\n",
    "print(\"Carpentry : {}..{}\".format(var_sol.get_start(), var_sol.get_end()))\n",
    "var_sol = msol1.get_var_solution(plumbing)\n",
    "print(\"Plumbing : {}..{}\".format(var_sol.get_start(), var_sol.get_end()))\n",
    "var_sol = msol1.get_var_solution(ceiling)\n",
    "print(\"Ceiling : {}..{}\".format(var_sol.get_start(), var_sol.get_end()))\n",
    "var_sol = msol1.get_var_solution(roofing)\n",
    "print(\"Roofing : {}..{}\".format(var_sol.get_start(), var_sol.get_end()))\n",
    "var_sol = msol1.get_var_solution(painting)\n",
    "print(\"Painting : {}..{}\".format(var_sol.get_start(), var_sol.get_end()))\n",
    "var_sol = msol1.get_var_solution(windows)\n",
    "print(\"Windows : {}..{}\".format(var_sol.get_start(), var_sol.get_end()))\n",
    "var_sol = msol1.get_var_solution(facade)\n",
    "print(\"Facade : {}..{}\".format(var_sol.get_start(), var_sol.get_end()))\n",
    "var_sol = msol1.get_var_solution(moving)\n",
    "print(\"Moving : {}..{}\".format(var_sol.get_start(), var_sol.get_end()))"
   ]
  },
  {
   "cell_type": "markdown",
   "metadata": {
    "slideshow": {
     "slide_type": "slide"
    }
   },
   "source": [
    "Graphical display of the same result is available with:"
   ]
  },
  {
   "cell_type": "code",
   "execution_count": null,
   "metadata": {
    "slideshow": {
     "slide_type": "slide"
    }
   },
   "outputs": [],
   "source": [
    "#setting up graphical display\n",
    "import docplex.cp.utils_visu as visu\n",
    "import matplotlib.pyplot as plt\n",
    "%matplotlib inline\n",
    "#Change the plot size\n",
    "from pylab import rcParams\n",
    "rcParams['figure.figsize'] = 15, 3"
   ]
  },
  {
   "cell_type": "code",
   "execution_count": null,
   "metadata": {
    "slideshow": {
     "slide_type": "slide"
    }
   },
   "outputs": [],
   "source": [
    "wt = msol1.get_var_solution(masonry)   \n",
    "visu.interval(wt, 'lightblue', 'masonry')   \n",
    "wt = msol1.get_var_solution(carpentry)   \n",
    "visu.interval(wt, 'lightblue', 'carpentry')\n",
    "wt = msol1.get_var_solution(plumbing)   \n",
    "visu.interval(wt, 'lightblue', 'plumbing')\n",
    "wt = msol1.get_var_solution(ceiling)   \n",
    "visu.interval(wt, 'lightblue', 'ceiling')\n",
    "wt = msol1.get_var_solution(roofing)   \n",
    "visu.interval(wt, 'lightblue', 'roofing')\n",
    "wt = msol1.get_var_solution(painting)   \n",
    "visu.interval(wt, 'lightblue', 'painting')\n",
    "wt = msol1.get_var_solution(windows)   \n",
    "visu.interval(wt, 'lightblue', 'windows')\n",
    "wt = msol1.get_var_solution(facade)   \n",
    "visu.interval(wt, 'lightblue', 'facade')\n",
    "wt = msol1.get_var_solution(moving)   \n",
    "visu.interval(wt, 'lightblue', 'moving')\n",
    "visu.show()"
   ]
  },
  {
   "cell_type": "markdown",
   "metadata": {
    "slideshow": {
     "slide_type": "slide"
    }
   },
   "source": [
    "The overall cost is 5000 and moving will be completed by day 110."
   ]
  },
  {
   "cell_type": "markdown",
   "metadata": {
    "slideshow": {
     "slide_type": "skip"
    }
   },
   "source": [
    "from https://ibmdecisionoptimization.github.io/tutorials/html/Scheduling_Tutorial.html"
   ]
  }
 ],
 "metadata": {
  "celltoolbar": "Slideshow",
  "kernelspec": {
   "display_name": "Python 3",
   "language": "python",
   "name": "python3"
  },
  "language_info": {
   "codemirror_mode": {
    "name": "ipython",
    "version": 3
   },
   "file_extension": ".py",
   "mimetype": "text/x-python",
   "name": "python",
   "nbconvert_exporter": "python",
   "pygments_lexer": "ipython3",
   "version": "3.7.4"
  },
  "rise": {
   "autolaunch": true,
   "theme": "solarized"
  }
 },
 "nbformat": 4,
 "nbformat_minor": 2
}
